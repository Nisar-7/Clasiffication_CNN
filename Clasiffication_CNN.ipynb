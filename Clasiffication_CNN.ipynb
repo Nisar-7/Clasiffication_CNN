{
  "cells": [
    {
      "cell_type": "code",
      "execution_count": 11,
      "metadata": {
        "id": "VKyXgF_rNZQr"
      },
      "outputs": [],
      "source": [
        "import torch\n",
        "import torch.nn as nn\n",
        "from torch.utils.data import DataLoader, Dataset\n",
        "from torchvision import datasets, transforms\n",
        "import torch.optim as optim\n",
        "import numpy as np\n",
        "import torch.nn.functional as F\n",
        "\n"
      ]
    },
    {
      "cell_type": "code",
      "execution_count": null,
      "metadata": {
        "id": "MvfhnekKOhga"
      },
      "outputs": [],
      "source": [
        "\n",
        "\n",
        "transform = transforms.Compose([\n",
        "\n",
        "    transforms.RandomHorizontalFlip(),\n",
        "    transforms.RandomRotation(10),     \n",
        "    transforms.ToTensor(),\n",
        "    transforms.Normalize((0.5,),(0.5,))\n",
        "])"
      ]
    },
    {
      "cell_type": "markdown",
      "metadata": {},
      "source": [
        "## Creat the Dataset and Dataloader "
      ]
    },
    {
      "cell_type": "code",
      "execution_count": null,
      "metadata": {
        "colab": {
          "base_uri": "https://localhost:8080/"
        },
        "id": "lkewM4zLPAg6",
        "outputId": "cee6b435-9cfa-44a7-c136-0bf384d00c62"
      },
      "outputs": [],
      "source": [
        "\n",
        "train_dataset = datasets.FashionMNIST(root='./data', train = True, transform= transform, download= True)\n",
        "test_dataset = datasets.FashionMNIST(root = './data', train = False, transform = transform, download = True)\n"
      ]
    },
    {
      "cell_type": "code",
      "execution_count": null,
      "metadata": {
        "id": "-vELx4YTPAdq"
      },
      "outputs": [],
      "source": [
        "\n",
        "batch_size = 64\n",
        "train_loader = DataLoader(dataset = train_dataset, batch_size = batch_size)\n",
        "test_loader = DataLoader(dataset = test_dataset, batch_size = batch_size)\n"
      ]
    },
    {
      "cell_type": "markdown",
      "metadata": {},
      "source": [
        "## Creat Model"
      ]
    },
    {
      "cell_type": "code",
      "execution_count": null,
      "metadata": {
        "id": "l3Mu2ShWPAaz"
      },
      "outputs": [],
      "source": [
        "class model(nn.Module):\n",
        "  def __init__(self, drop_out_rate = 0.5):\n",
        "    super().__init__()\n",
        "\n",
        "    self.conv1 = nn.Conv2d(in_channels= 1, out_channels= 32,kernel_size= 2 , stride = 2, padding = 1)  # what is the padding here to get to this model\n",
        "    self.norm1 = nn.BatchNorm2d(32)\n",
        "    self.con2 = nn.Conv2d(in_channels = 32, out_channels = 62, kernel_size= 2, stride = 2, padding = 1)\n",
        "    self.norm2 = nn.BatchNorm2d(64)e = 3, stride = 2)\n",
        "    self.drop = nn.Dropout(p = drop_out\n",
        "    self.pool = nn.MaxPool2d(kernel_siz_rate)\n",
        "    self.fc1 = nn.Linear(62 * 3 * 3, 64)  # just give the input of the linear so get this to them to creat some thing\n",
        "\n",
        "\n",
        "    self.dropout_fc = nn.Dropout(p = 0.4)\n",
        "    self.fc2 = nn.Linear(64, 10)\n",
        "\n",
        "\n",
        "  def forward(self, x):\n",
        "    x = self.pool(F.relu(self.norm1(self.conv1(x))))\n",
        "    x = self.pool(F.relu(self.norm2(self.Conv2d(x))))\n",
        "    x = self.drop(x)\n",
        "    batch_size, channels, hieght, weight = x.shape\n",
        "\n",
        "\n",
        "    \n",
        "    x = x.view(-1, 128 * 4 * 4)\n",
        "    x = F.relu(self.fc1(x))\n",
        "    x = self.dropout_fc(x)\n",
        "    out = self.fc2(x)\n",
        "\n",
        "\n",
        "    return out\n",
        "\n"
      ]
    },
    {
      "cell_type": "code",
      "execution_count": 24,
      "metadata": {
        "id": "g2Z5oelQR9WB"
      },
      "outputs": [],
      "source": [
        "learning_rate = 0.001\n",
        "num_epoch = 12\n",
        "device = torch.device('cuda' if torch.cuda.is_available() else 'cpu')"
      ]
    },
    {
      "cell_type": "code",
      "execution_count": 23,
      "metadata": {
        "id": "2OopaAFmPASZ"
      },
      "outputs": [],
      "source": [
        "model = model().to(device)\n",
        "loss = nn.CrossEntropyLoss()\n",
        "optimizer = optim.Adam(model.parameters(), lr = learning_rate)"
      ]
    },
    {
      "cell_type": "markdown",
      "metadata": {
        "id": "GQjN2dGEUM63"
      },
      "source": [
        "## Trainig Loop :"
      ]
    },
    {
      "cell_type": "code",
      "execution_count": 25,
      "metadata": {
        "id": "FmaEa5csPAN5"
      },
      "outputs": [],
      "source": [
        "def train(model, test_loader, device , num_epoch):\n",
        "\n",
        "  all_step = len(train_loader)\n",
        "\n",
        "  all_loss = []\n",
        "  for epoch in range(num_epoch):\n",
        "    model.train()\n",
        "    epoch_loss = []\n",
        "\n",
        "    for i, (images , labels) in enumerate(test_loader):\n",
        "      image = images.to(device)\n",
        "      label = labels.to(device)\n",
        "\n",
        "      out = model(image)\n",
        "      _, prediction = torch.max(out, 1)\n",
        "\n",
        "      loss = loss(label, prediction)\n",
        "      loss.append(loss.item())\n",
        "\n",
        "      optimizer.zero_grad()\n",
        "      loss.backward()\n",
        "      optimizer.step()\n",
        "\n",
        "      if (i+1)%200 == 0:\n",
        "        print(f'Epoch : [{epoch}/{num_epoch}], Step : [{i+1}/{all_step}], Loss : {loss.item():.4f}%')\n",
        "\n",
        "    all_loss.extend(epoch_loss)\n",
        "\n",
        "\n",
        "\n",
        "  return model, all_loss\n",
        "\n",
        "\n",
        "\n",
        "\n"
      ]
    },
    {
      "cell_type": "markdown",
      "metadata": {
        "id": "_1Q4T9n4Yr_y"
      },
      "source": [
        "## Testing Model :"
      ]
    },
    {
      "cell_type": "code",
      "execution_count": null,
      "metadata": {
        "id": "G9W34TnHYqXt"
      },
      "outputs": [],
      "source": [
        "def test(model , test_loader, device):\n",
        "  model.eval()\n",
        "  n_correct = 0\n",
        "  n_sample = 0\n",
        "\n",
        "  with torch.no_grad():\n",
        "\n",
        "    for images, labels in test_loader:\n",
        "      image, label = images.to(device),labels.to(device)\n",
        "\n",
        "      out = model(image)\n",
        "      _, predictio = torch.max(out.data, 1)\n",
        "\n",
        "      n_sample += label.size(0)\n",
        "      n_correct += (predictio == label).sum().item()\n",
        "\n",
        "      accuracy = 100.0 * n_correct/n_sample\n",
        "\n",
        "      return accuracy\n",
        "\n",
        "# call your method her to run all of that I make the sapce for tath here to them to make this to them :\n",
        "\n",
        "\n",
        "print(f\"Acccuracy on test set is : {accuracy :.2f}%\")  # give the accuracu from the call of the model\n",
        "\n"
      ]
    },
    {
      "cell_type": "code",
      "execution_count": null,
      "metadata": {
        "colab": {
          "base_uri": "https://localhost:8080/",
          "height": 141
        },
        "id": "gOwBHzgpYqQg",
        "outputId": "465b6677-e40b-4fe9-9db7-510ebed10009"
      },
      "outputs": [],
      "source": [
        "torch.save(model.state_dict(), 'fashion_cnn.pth')"
      ]
    },
    {
      "cell_type": "code",
      "execution_count": null,
      "metadata": {
        "id": "Gq82iuNoYqCS"
      },
      "outputs": [],
      "source": []
    },
    {
      "cell_type": "code",
      "execution_count": null,
      "metadata": {
        "id": "Em6oFd7FYpz4"
      },
      "outputs": [],
      "source": []
    }
  ],
  "metadata": {
    "accelerator": "GPU",
    "colab": {
      "gpuType": "T4",
      "provenance": []
    },
    "kernelspec": {
      "display_name": "Python 3",
      "name": "python3"
    },
    "language_info": {
      "name": "python",
      "version": "3.13.5"
    }
  },
  "nbformat": 4,
  "nbformat_minor": 0
}
